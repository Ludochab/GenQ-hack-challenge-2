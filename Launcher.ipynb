{
 "cells": [
  {
   "cell_type": "markdown",
   "id": "e7762c8f",
   "metadata": {},
   "source": [
    "# Welcome to the GenQ Hackathon in Calgary, Alberta!\n",
    "We are excited to have you here. This is your workspace for the hackathon, where you can develop your projects and explore new ideas.\n",
    "\n",
    "**Good luck and may the best ideas win!**\n",
    "\n",
    "## Access the Hackathon Documentation\n",
    "For all relevant information, rules, resources, and updates throughout the event, please refer to the official [Hackathon Documentation](https://gen-q.tech/).\n",
    "This will be your go-to guide during the hackathon to stay informed and make the most out of your experience.\n",
    "\n",
    "**Also, take a deep look on [QCentroid documentation](https://docs.qcentroid.xyz/platform/genq-qc-hackathon/)**\n",
    "\n",
    "## Access the Challenge Documentation\n",
    "1. Your challenge is [Electricity Grid Management](<./Challenge 2 - Electricity Grid Management.pdf>). Please, read carefully before coding.\n",
    "2. You will code using [QuEra](https://qbook.quera.com/).\n",
    "3. Please, take a look at the examples and visit the documentation\n",
    "\n",
    "## How to run your algorithm\n",
    "1. Select your input json dataset. `input_json='input.json'`\n",
    "2. Read the json and read the data section. `with open(input_json) as f: input_data = json.load(f) data=input_data['data'] `\n",
    "3. Call main.run with `result=main.run(data,None,None)`\n",
    "4. Verify that your result is json compatible `json.loads(result)`\n",
    "\n",
    "## How to use your backend\n",
    "1. Your backend is QuEra.\n",
    "2. You will use Bloqade for coding (in Launchpad) and Aquilas for benchmarking (in the Platform)\n",
    "\n",
    "```python\n",
    "    #This is the code to get your backend\n",
    "    from quera_wrapper import QuEraWrapper\n",
    "    QuEraWrapper.program=prog_list[1]\n",
    "    x=QuEraWrapper.run(shots=1000)\n",
    "   ```\n",
    "\n",
    "## How to test in the evaluation platform\n",
    "1. When you have something interesting to be evaluated, please, commit and pull using the Git menu on the left (add everything, press Commit at the bottom and find a button at the top with a yellow dot)\n",
    "2. Go to the evaluation platform.\n",
    "3. Find your repository, pull your repository.\n",
    "4. Execute a new job\n",
    "\n",
    "## Libraries to be used (installed in your IDE and evaluation platform)\n",
    "1. All the standard distribution.\n",
    "2. Matplotlib, Numpy, Pandas, Tensorflow, Scipy, Seaborn, Statsmodels, Networkx, Scikit and Dask\n",
    "3. For your specific challenge QuantumRingsLib\n",
    "4. For any other library, please, ask support team.\n",
    "\n",
    "## Important things to take care of\n",
    "1. Inside main.py there is a method with a specific signature. Don't modify that. It is your solver entry point `def run(input_data,solver_params,extra_arguments)`\n",
    "2. QCentroid datasets have 3 sections, but 2 of them are not used in this Hackathon. Your data will be inside data section in your json `{\"data\":{(your data)}}`\n",
    "3. If you want to upload a dataset to QCentroid platform, please ask support team how to do that.\n",
    "4. Any issue ask the support team during the day or write an email from your hackathon write to Antonio Peris (Discord)"
   ]
  },
  {
   "cell_type": "code",
   "execution_count": 4,
   "id": "fb284c25-7185-41a6-843f-01c412d3c40f",
   "metadata": {},
   "outputs": [],
   "source": [
    "input_json='input.json'"
   ]
  },
  {
   "cell_type": "code",
   "execution_count": 6,
   "id": "a4be95b1-d696-45fb-87ab-5bfeb1af26e6",
   "metadata": {
    "deletable": false,
    "editable": false
   },
   "outputs": [
    {
     "data": {
      "text/plain": [
       "'{\"11111\": 347, \"00000\": 363, \"00010\": 29, \"11101\": 26, \"10000\": 25, \"00001\": 35, \"11110\": 17, \"10111\": 20, \"00110\": 4, \"01110\": 7, \"01111\": 25, \"00100\": 23, \"11000\": 1, \"01000\": 23, \"11001\": 3, \"11011\": 17, \"10001\": 6, \"00101\": 4, \"00011\": 3, \"01010\": 3, \"01101\": 2, \"10100\": 2, \"10101\": 3, \"00111\": 2, \"10011\": 1, \"11010\": 1, \"01011\": 2, \"01100\": 3, \"01001\": 1, \"10110\": 1, \"10010\": 1}'"
      ]
     },
     "execution_count": 6,
     "metadata": {},
     "output_type": "execute_result"
    }
   ],
   "source": [
    "#############################################################################################################################\n",
    "############################################## PLEASE, DON'T MODIFY THIS CELL. ##############################################\n",
    "######################## IF THIS CELL DOES NOT WORK, YOUR CODE WON'T WORK ON THE EVALUATION PLATFORM ########################\n",
    "#############################################################################################################################\n",
    "\n",
    "%load_ext autoreload\n",
    "%autoreload 2\n",
    "\n",
    "import json\n",
    "import main\n",
    "with open(input_json) as f:\n",
    "  input_data = json.load(f)\n",
    "data=input_data['data']\n",
    "result=main.run(data,None,None)\n",
    "json.dumps(result)"
   ]
  },
  {
   "cell_type": "code",
   "execution_count": null,
   "id": "934de8ea-b042-4066-89f1-a8fbb4b63c8d",
   "metadata": {},
   "outputs": [],
   "source": []
  }
 ],
 "metadata": {
  "kernelspec": {
   "display_name": "Python [conda env:base] *",
   "language": "python",
   "name": "conda-base-py"
  },
  "language_info": {
   "codemirror_mode": {
    "name": "ipython",
    "version": 3
   },
   "file_extension": ".py",
   "mimetype": "text/x-python",
   "name": "python",
   "nbconvert_exporter": "python",
   "pygments_lexer": "ipython3",
   "version": "3.12.3"
  }
 },
 "nbformat": 4,
 "nbformat_minor": 5
}
